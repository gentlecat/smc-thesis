{
 "cells": [
  {
   "cell_type": "markdown",
   "metadata": {},
   "source": [
    "# Building validation dataset for vocals classification"
   ]
  },
  {
   "cell_type": "code",
   "execution_count": 1,
   "metadata": {
    "collapsed": true
   },
   "outputs": [],
   "source": [
    "from typing import List, Set\n",
    "import requests\n",
    "import itertools"
   ]
  },
  {
   "cell_type": "code",
   "execution_count": 2,
   "metadata": {
    "collapsed": true
   },
   "outputs": [],
   "source": [
    "import musicbrainzngs\n",
    "musicbrainzngs.set_useragent(\"research\", 1.0)"
   ]
  },
  {
   "cell_type": "code",
   "execution_count": 3,
   "metadata": {
    "collapsed": false
   },
   "outputs": [],
   "source": [
    "def get_recordings_from_artists(mbids: List[str]) -> Set[str]:\n",
    "    recordings = set()\n",
    "    for artist in mbids:\n",
    "        resp = musicbrainzngs.browse_recordings(artist=artist)\n",
    "        for recording in resp[\"recording-list\"]:\n",
    "            recordings.add(recording[\"id\"])\n",
    "    return recordings\n",
    "\n",
    "def get_recordings_from_releases(mbids: List[str]) -> Set[str]:\n",
    "    recordings = set()\n",
    "    for release in mbids:\n",
    "        resp = musicbrainzngs.browse_recordings(release=release)\n",
    "        for recording in resp[\"recording-list\"]:\n",
    "            recordings.add(recording[\"id\"])\n",
    "    return recordings"
   ]
  },
  {
   "cell_type": "code",
   "execution_count": 4,
   "metadata": {
    "collapsed": true
   },
   "outputs": [],
   "source": [
    "def is_in_acousticbrainz(recording_mbid: str) -> bool:\n",
    "    resp = requests.get(\"https://acousticbrainz.org/api/v1/%s/count\" % recording_mbid).json()\n",
    "    return resp[\"count\"] > 0"
   ]
  },
  {
   "cell_type": "code",
   "execution_count": 5,
   "metadata": {
    "collapsed": true
   },
   "outputs": [],
   "source": [
    "artists_with = [\n",
    "    \"6bbb3983-ce8a-4971-96e0-7cae73268fc4\",  # Jungle\n",
    "    \"debabff3-2559-46e5-862d-ef2a906d7010\",  # Daryl Hall and John Oates\n",
    "    \"31a4c5ca-1899-4a44-a4b1-31e1921ddf17\",  # Daryl Hall\n",
    "    \"d1fc999f-6184-41a6-bcb1-7c59bf74a6e1\",  # K.Flay\n",
    "]\n",
    "releases_with = [\n",
    "    \"69f69c69-9018-45c9-a245-1b993df9919c\",  # Furniteur - Furniteur\n",
    "    \"aaa0a2b0-e48f-42af-8cd2-7e6b09d2240c\",  # Calvin Harris - Motion\n",
    "    \"98215ea8-f57d-49f6-8a77-cad6957b1181\",  # Ellie Goulding - Halcyon Days\n",
    "    \"eed328a1-5f3c-33d5-bf9e-b9033175124c\",  # Rammstein - Mutter\n",
    "    \"f3bfed3d-c1d2-3599-b6d7-3916be6c53dc\",  # Rammstein - Rosenrot\n",
    "    \"3b87c7dd-2e90-42da-bc4a-ebadf91161ec\",  # Bon Iver - Bon Iver, Bon Iver\n",
    "    \"7755956b-7886-40fc-8474-a0d86d08fa06\",  # Poe - Haunted\n",
    "]\n",
    "\n",
    "artists_without = [\n",
    "    \"147ad01e-3496-44a0-b77b-55e089759b3c\",  # Jón Hallur Haraldsson\n",
    "    \"7eefe357-3aaa-4d89-b530-3b131cca1b35\",  # Ludique\n",
    "    \"a2af1f31-c9eb-4fff-990c-c4f547a11b75\",  # Solar Fields\n",
    "    \"162c7a95-9b96-4b7a-bac2-6f2c2e2357e7\",  # M|O|O|N\n",
    "    \"8208d8f9-61b6-47f2-90c0-2680dadd56a8\",  # Stellardrone\n",
    "]\n",
    "releases_without = [\n",
    "    \"863857c5-a6b4-43d6-97be-2f39b7e75d5f\",  # Moderat - III (Instrumentals)\n",
    "    \"a44cd2fc-f8f0-42a4-aa45-743223e14642\",  # Hotline Miami 2: Wrong Number\n",
    "    \"f2d22a23-fa13-4248-a4a3-855468609de4\",  # Hotline Miami - Official Soundtrack\n",
    "]"
   ]
  },
  {
   "cell_type": "code",
   "execution_count": 6,
   "metadata": {
    "collapsed": false
   },
   "outputs": [],
   "source": [
    "with_vocals = {\n",
    "    \"name\": \"With vocals\",\n",
    "    \"recordings\": set(list(filter(\n",
    "        is_in_acousticbrainz, \n",
    "        set(itertools.chain(\n",
    "            get_recordings_from_artists(artists_with),\n",
    "            get_recordings_from_releases(releases_with),\n",
    "        ))\n",
    "    ))),\n",
    "}\n",
    "without_vocals = {\n",
    "    \"name\": \"Without vocals\",\n",
    "    \"recordings\": set(list(filter(\n",
    "        is_in_acousticbrainz, \n",
    "        set(itertools.chain(\n",
    "            get_recordings_from_artists(artists_without),\n",
    "            get_recordings_from_releases(releases_without),\n",
    "        ))\n",
    "    ))),\n",
    "}"
   ]
  },
  {
   "cell_type": "code",
   "execution_count": 7,
   "metadata": {
    "collapsed": true
   },
   "outputs": [],
   "source": [
    "with open(\"dataset.csv\", \"w\") as f:\n",
    "\n",
    "    # With vocals\n",
    "    for mbid in with_vocals[\"recordings\"]:\n",
    "        f.write(\"%s,%s\\n\" % (mbid, with_vocals[\"name\"]))\n",
    "    \n",
    "    # Without vocals\n",
    "    for mbid in without_vocals[\"recordings\"]:\n",
    "        f.write(\"%s,%s\\n\" % (mbid, without_vocals[\"name\"]))"
   ]
  },
  {
   "cell_type": "markdown",
   "metadata": {},
   "source": [
    "### Stats"
   ]
  },
  {
   "cell_type": "code",
   "execution_count": 8,
   "metadata": {
    "collapsed": false
   },
   "outputs": [
    {
     "name": "stdout",
     "output_type": "stream",
     "text": [
      "Recordings with vocals: 113\n",
      "Recordings without vocals: 105\n"
     ]
    }
   ],
   "source": [
    "print(\"Recordings with vocals:\", len(with_vocals[\"recordings\"]))\n",
    "print(\"Recordings without vocals:\", len(without_vocals[\"recordings\"]))"
   ]
  }
 ],
 "metadata": {
  "kernelspec": {
   "display_name": "Python 3",
   "language": "python",
   "name": "python3"
  },
  "language_info": {
   "codemirror_mode": {
    "name": "ipython",
    "version": 3
   },
   "file_extension": ".py",
   "mimetype": "text/x-python",
   "name": "python",
   "nbconvert_exporter": "python",
   "pygments_lexer": "ipython3",
   "version": "3.5.2"
  }
 },
 "nbformat": 4,
 "nbformat_minor": 0
}
